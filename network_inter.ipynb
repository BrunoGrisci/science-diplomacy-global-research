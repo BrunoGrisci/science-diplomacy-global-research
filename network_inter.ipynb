{
 "cells": [
  {
   "cell_type": "code",
   "execution_count": 1,
   "metadata": {},
   "outputs": [
    {
     "name": "stderr",
     "output_type": "stream",
     "text": [
      "/home/bigrisci/.local/lib/python3.6/site-packages/ipykernel_launcher.py:175: UserWarning:\n",
      "\n",
      "DataFrame columns are not unique, some columns will be omitted.\n",
      "\n"
     ]
    },
    {
     "data": {
      "application/vnd.jupyter.widget-view+json": {
       "model_id": "deb581be7b73457796af9ec6db9ad909",
       "version_major": 2,
       "version_minor": 0
      },
      "text/plain": [
       "IntSlider(value=2002, continuous_update=False, description='Year:', max=2023, min=2002)"
      ]
     },
     "metadata": {},
     "output_type": "display_data"
    },
    {
     "data": {
      "application/vnd.jupyter.widget-view+json": {
       "model_id": "e642d52f75474eb0862eccf24b6a1486",
       "version_major": 2,
       "version_minor": 0
      },
      "text/plain": [
       "Output()"
      ]
     },
     "metadata": {},
     "output_type": "display_data"
    }
   ],
   "source": []
  },
  {
   "cell_type": "code",
   "execution_count": null,
   "metadata": {},
   "outputs": [],
   "source": [
    "import pandas as pd\n",
    "import networkx as nx\n",
    "import plotly.graph_objs as go\n",
    "import ipywidgets as widgets\n",
    "from collections import Counter\n",
    "from IPython.display import display\n",
    "import plotly.io as pio"
   ]
  },
  {
   "cell_type": "code",
   "execution_count": 8,
   "metadata": {},
   "outputs": [],
   "source": [
    "# Force plotly to render in notebook\n",
    "#pio.renderers.default = 'notebook'\n",
    "\n",
    "# Force Plotly to render in the default web browser\n",
    "pio.renderers.default = 'browser'"
   ]
  },
  {
   "cell_type": "code",
   "execution_count": null,
   "metadata": {},
   "outputs": [],
   "source": [
    "def first_non_none_elements(list_of_lists):\n",
    "    if not list_of_lists:\n",
    "        return []\n",
    "\n",
    "    # Determine the length of the sublists\n",
    "    length_of_sublists = len(list_of_lists[0])\n",
    "    result = []\n",
    "\n",
    "    for i in range(length_of_sublists):\n",
    "        for sublist in list_of_lists:\n",
    "            if sublist[i].lower().rstrip() != \"none\":\n",
    "                result.append(sublist[i])\n",
    "                break\n",
    "        else:\n",
    "            result.append(\"None\")  # If all elements at this index are None, append None\n",
    "\n",
    "    return result\n",
    "\n",
    "def all_elements_same_length(lst):\n",
    "    if not lst:  # Check if the list is empty\n",
    "        return True\n",
    "    first_length = len(lst[0])\n",
    "    for item in lst:\n",
    "        if len(item) != first_length:\n",
    "            return False\n",
    "    return True\n",
    "\n",
    "def filter_data_by_year(df, year):\n",
    "    \"\"\"Filter the DataFrame to only include rows for a specific year.\"\"\"\n",
    "    return df[df['Year'] <= year]"
   ]
  },
  {
   "cell_type": "code",
   "execution_count": null,
   "metadata": {},
   "outputs": [],
   "source": [
    "def build_network_graph(df, dict_c2r, dict_s2r):\n",
    "    \"\"\"Builds the network graph for a specific year.\"\"\"\n",
    "    G = nx.DiGraph()\n",
    "    \n",
    "    # Build edges from the filtered data\n",
    "    edges = []\n",
    "    # Iterate over each row in the DataFrame\n",
    "    for _, row in df.iterrows():\n",
    "        source_countries = row['affiliation_country'].replace(',',';').split(';')\n",
    "        source_subregion = row['affiliation_subregion_manual'].replace(',',';').split(';')\n",
    "        source_region    = row['affiliation_region_manual'].replace(',',';').split(';')\n",
    "        target_countries = row['target_country_manual'].replace(',',';').split(';')\n",
    "        target_subregion = row['target_subregion_manual'].replace(',',';').split(';')\n",
    "        target_region    = row['target_region_manual'].replace(',',';').split(';')\n",
    "        \n",
    "        source_countries = list(map(str.strip, source_countries))\n",
    "        source_subregion = list(map(str.strip, source_subregion))\n",
    "        source_region = list(map(str.strip, source_region))\n",
    "        target_countries = list(map(str.strip, target_countries))\n",
    "        target_subregion = list(map(str.strip, target_subregion))\n",
    "        target_region = list(map(str.strip, target_region))\n",
    "\n",
    "        if not all_elements_same_length([source_countries, source_subregion, source_region]):\n",
    "            print(source_countries, len(source_countries))\n",
    "            print(source_subregion, len(source_subregion))\n",
    "            print(source_region, len(source_region))\n",
    "            raise Exception(\"Source lists above have different sizes.\") \n",
    "\n",
    "        if not all_elements_same_length([target_countries, target_subregion, target_region]):\n",
    "            print(target_countries, len(target_countries))\n",
    "            print(target_subregion, len(target_subregion))\n",
    "            print(target_region, len(target_region))\n",
    "            raise Exception(\"Target lists above have different sizes.\") \n",
    "\n",
    "        source_list = first_non_none_elements([source_countries, source_subregion, source_region])\n",
    "        target_list = first_non_none_elements([target_countries, target_subregion, target_region])\n",
    "\n",
    "        for from_region in source_list:\n",
    "            for to_region in target_list:\n",
    "                edges.append((from_region, to_region)) \n",
    "    \n",
    "    edge_counts = Counter(edges)\n",
    "\n",
    "    for edge, count in edge_counts.items():\n",
    "        G.add_edge(edge[0], edge[1], weight=count)\n",
    "\n",
    "    return G"
   ]
  },
  {
   "cell_type": "code",
   "execution_count": 5,
   "metadata": {},
   "outputs": [],
   "source": [
    "def plot_network(G, pos, dict_c2r, dict_s2r, color_map):\n",
    "    \"\"\"Plots the network using Plotly.\"\"\"\n",
    "    x_nodes = [pos[node][0] for node in G.nodes()]\n",
    "    y_nodes = [pos[node][1] for node in G.nodes()]\n",
    "    \n",
    "    edge_trace = []\n",
    "    for edge in G.edges():\n",
    "        x0, y0 = pos[edge[0]]\n",
    "        x1, y1 = pos[edge[1]]\n",
    "        edge_trace.append(go.Scatter(x=[x0, x1, None], y=[y0, y1, None],\n",
    "                                     mode='lines', line=dict(width=0.5, color='#888'),\n",
    "                                     hoverinfo='none'))\n",
    "\n",
    "    node_trace = go.Scatter(x=x_nodes, y=y_nodes, mode='markers',\n",
    "                            marker=dict(size=[G.degree(node) + 10 for node in G.nodes()],\n",
    "                                        color=[color_map.get(node, color_map.get(dict_c2r.get(node, node)[1], '#000000')) for node in G.nodes()],\n",
    "                                        colorscale='Viridis'),\n",
    "                            text=list(G.nodes()), hoverinfo='text')\n",
    "\n",
    "    layout = go.Layout(showlegend=False, hovermode='closest',\n",
    "                       margin=dict(b=0, l=0, r=0, t=40),\n",
    "                       xaxis=dict(showgrid=False, zeroline=False),\n",
    "                       yaxis=dict(showgrid=False, zeroline=False),\n",
    "                       title=\"Network Graph\",\n",
    "                       width=1200,  # Set width of the plot\n",
    "                       height=800)  # Set height of the plot\n",
    "\n",
    "    return go.Figure(data=edge_trace + [node_trace], layout=layout)"
   ]
  },
  {
   "cell_type": "code",
   "execution_count": 4,
   "metadata": {},
   "outputs": [],
   "source": [
    "def interactive_network(df, period_years, dict_c2r, dict_s2r, color_map):\n",
    "    # Slider widget to select year\n",
    "    year_slider = widgets.IntSlider(\n",
    "        value=period_years[0],\n",
    "        min=period_years[0],\n",
    "        max=period_years[1],\n",
    "        step=1,\n",
    "        description='Year:',\n",
    "        continuous_update=False\n",
    "    )\n",
    "\n",
    "    # Output area for the graph\n",
    "    output = widgets.Output()\n",
    "\n",
    "    def update_network(change):\n",
    "        year = change['new']\n",
    "        \n",
    "        with output:\n",
    "            output.clear_output(wait=True)\n",
    "\n",
    "            # Filter data for the current year\n",
    "            current_df = filter_data_by_year(df, year)\n",
    "\n",
    "            # Build the network graph for the current year\n",
    "            G = build_network_graph(current_df, dict_c2r, dict_s2r)\n",
    "\n",
    "            if len(G.nodes()) > 0:\n",
    "                pos = nx.spring_layout(G)\n",
    "                fig = plot_network(G, pos, dict_c2r, dict_s2r, color_map)\n",
    "\n",
    "                pio.show(fig)\n",
    "\n",
    "    # Link slider change to update function\n",
    "    year_slider.observe(update_network, names='value')\n",
    "\n",
    "    display(year_slider)\n",
    "    display(output)"
   ]
  },
  {
   "cell_type": "code",
   "execution_count": 9,
   "metadata": {
    "scrolled": true
   },
   "outputs": [
    {
     "name": "stderr",
     "output_type": "stream",
     "text": [
      "/home/bigrisci/.local/lib/python3.6/site-packages/ipykernel_launcher.py:20: UserWarning:\n",
      "\n",
      "DataFrame columns are not unique, some columns will be omitted.\n",
      "\n"
     ]
    },
    {
     "data": {
      "application/vnd.jupyter.widget-view+json": {
       "model_id": "9e160e0f9bd1435fa0efb535d2fae3a3",
       "version_major": 2,
       "version_minor": 0
      },
      "text/plain": [
       "IntSlider(value=2002, continuous_update=False, description='Year:', max=2023, min=2002)"
      ]
     },
     "metadata": {},
     "output_type": "display_data"
    },
    {
     "data": {
      "application/vnd.jupyter.widget-view+json": {
       "model_id": "6c37e65413334c659c46da879709c925",
       "version_major": 2,
       "version_minor": 0
      },
      "text/plain": [
       "Output()"
      ]
     },
     "metadata": {},
     "output_type": "display_data"
    }
   ],
   "source": [
    "# Example usage\n",
    "if __name__ == '__main__':\n",
    "    # Assume df is your DataFrame already processed with the necessary columns\n",
    "    csv_file_path = 'v4_1209_final_worksheet.csv'\n",
    "    period_years = [2002, 2023]\n",
    "\n",
    "    # Columns to keep\n",
    "    columns_to_keep = ['affiliation_country', 'affiliation_subregion_manual', 'affiliation_region_manual', 'target_country_manual', 'target_subregion_manual', 'target_region_manual', 'affliation_north_or_south', 'SD-related (YES/NO)', 'coverDate']\n",
    "    df = pd.read_csv(csv_file_path, usecols=columns_to_keep)\n",
    "    df['Year'] = pd.to_datetime(df['coverDate']).dt.year\n",
    "    df = df[df['SD-related (YES/NO)'].str.lower() == 'yes']\n",
    "    df = df[df['affiliation_country'].str.lower() != 'none']\n",
    "    df = df[df['target_region_manual'].str.lower() != 'none']\n",
    "    df = df.dropna()\n",
    "\n",
    "    # Load the region mappings\n",
    "    region_dictionary_csv = '22072024_Countries aggregated_BrunoGrisci-3007 - UN Geoscheme.csv'\n",
    "    region_dictionary = pd.read_csv(region_dictionary_csv, usecols=['Country or Area', 'Region Name', 'Sub-region Name'])\n",
    "    country_to_region = region_dictionary.set_index('Country or Area').T.to_dict('list')\n",
    "    subregion_to_region = region_dictionary.set_index('Sub-region Name').T.to_dict('list')\n",
    "\n",
    "    color_map = {\n",
    "        # Africa\n",
    "        \"Northern Africa\": \"#2E8B57\",             # Sea Green\n",
    "        \"Sub-Saharan Africa\": \"#8FBC8F\",          # Dark Sea Green\n",
    "        \"Africa\": \"#32CD32\",                      # Lime Green\n",
    "        \n",
    "        # Americas\n",
    "        \"Latin America and the Caribbean\": \"#FF6347\",  # Tomato\n",
    "        \"Northern America\": \"#FF4500\",            # Orange Red\n",
    "        \"Americas\": \"#B22222\",                    # Firebrick\n",
    "\n",
    "        # Asia\n",
    "        \"Central Asia\": \"#FFD700\",                # Gold\n",
    "        \"Eastern Asia\": \"#FFEC8B\",                # Light Goldenrod Yellow\n",
    "        \"South-eastern Asia\": \"#FFA500\",          # Orange\n",
    "        \"Southern Asia\": \"#FF8C00\",               # Dark Orange\n",
    "        \"Western Asia\": \"#FFDAB9\",                # Peach Puff\n",
    "        \"Asia\": \"#FFFFE0\",                        # Light Yellow\n",
    "\n",
    "        # Europe\n",
    "        \"Eastern Europe\": \"#1E90FF\",              # Dodger Blue\n",
    "        \"Northern Europe\": \"#00BFFF\",             # Deep Sky Blue\n",
    "        \"Southern Europe\": \"#4682B4\",             # Steel Blue\n",
    "        \"Western Europe\": \"#6495ED\",              # Cornflower Blue\n",
    "        \"Europe\": \"#4169E1\",                      # Royal Blue\n",
    "\n",
    "        # Oceania\n",
    "        \"Australia and New Zealand\": \"#9370DB\",   # Medium Purple\n",
    "        \"Melanesia\": \"#8A2BE2\",                   # Blue Violet\n",
    "        \"Micronesia\": \"#BA55D3\",                  # Medium Orchid\n",
    "        \"Polynesia\": \"#DDA0DD\",                   # Plum\n",
    "        \"Oceania\": \"#9932CC\",                     # Dark Orchid\n",
    "\n",
    "        # Others\n",
    "        \"Antarctica\": \"#E0FFFF\",                  # Light Cyan\n",
    "        \"Arctic\": \"#00FFFF\",                      # Cyan\n",
    "        \"Atlantic\": \"#4682B4\"                     # Steel Blue\n",
    "    }\n",
    "\n",
    "    interactive_network(df, period_years, country_to_region, subregion_to_region, color_map)\n"
   ]
  },
  {
   "cell_type": "code",
   "execution_count": null,
   "metadata": {},
   "outputs": [],
   "source": []
  }
 ],
 "metadata": {
  "kernelspec": {
   "display_name": "Python 3 (ipykernel)",
   "language": "python",
   "name": "python3"
  },
  "language_info": {
   "codemirror_mode": {
    "name": "ipython",
    "version": 3
   },
   "file_extension": ".py",
   "mimetype": "text/x-python",
   "name": "python",
   "nbconvert_exporter": "python",
   "pygments_lexer": "ipython3",
   "version": "3.6.9"
  }
 },
 "nbformat": 4,
 "nbformat_minor": 4
}
